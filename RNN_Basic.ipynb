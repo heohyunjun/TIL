{
  "nbformat": 4,
  "nbformat_minor": 0,
  "metadata": {
    "colab": {
      "name": "Untitled2.ipynb",
      "provenance": [],
      "authorship_tag": "ABX9TyMOcWuHXTXfyIGKBgZvb5tf"
    },
    "kernelspec": {
      "name": "python3",
      "display_name": "Python 3"
    },
    "language_info": {
      "name": "python"
    }
  },
  "cells": [
    {
      "cell_type": "markdown",
      "source": [
        "![image.png](data:image/png;base64,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)"
      ],
      "metadata": {
        "id": "wcNCvzBL2LhI"
      }
    },
    {
      "cell_type": "code",
      "execution_count": 12,
      "metadata": {
        "colab": {
          "base_uri": "https://localhost:8080/"
        },
        "id": "XlU6dquB2JCq",
        "outputId": "670e0c65-ca39-4c7c-df67-b78ca21abe16"
      },
      "outputs": [
        {
          "output_type": "stream",
          "name": "stdout",
          "text": [
            "[[0.96303784 0.51889765 0.43683425 0.83005437]\n",
            " [0.07281489 0.20599557 0.91624271 0.57188136]\n",
            " [0.69564011 0.80662477 0.87813301 0.38865349]\n",
            " [0.91942043 0.88973464 0.69078006 0.89873551]\n",
            " [0.43250201 0.67346765 0.10554871 0.42411857]\n",
            " [0.55079707 0.29793269 0.92098157 0.95199775]\n",
            " [0.031239   0.43949907 0.51741935 0.77299081]\n",
            " [0.09083139 0.0245074  0.69129953 0.09814026]\n",
            " [0.6878542  0.82801784 0.15958793 0.1392054 ]\n",
            " [0.41820311 0.65174327 0.15853905 0.93431533]]\n"
          ]
        }
      ],
      "source": [
        "import numpy as np\n",
        "\n",
        "# 입력 시퀀스 길이(== input_length)\n",
        "timesteps = 10\n",
        "\n",
        "# 입력 크기(차원)\n",
        "input_dim =4\n",
        "\n",
        "# 메모리 셀 용량\n",
        "hidden_units = 8\n",
        "\n",
        "# 입력 텐서 생성\n",
        "# np.random.random((길이, 차원)) -> 튜플로 넣어야함\n",
        "inputs = np.random.random((timesteps, input_dim))\n",
        "\n",
        "print(inputs)"
      ]
    },
    {
      "cell_type": "code",
      "source": [
        "# 초기 은닉 상태는 0(벡터)로 초기화\n",
        "\n",
        "# np.zeros() ->0으로 채워진 array 생성\n",
        "hidden_state_t = np.zeros((hidden_units,)) \n",
        "print(hidden_state_t)\n",
        "print(hidden_state_t.shape)\n",
        "\n",
        "\n",
        "# Docstring:\n",
        "# zeros(shape, dtype=float, order='C', *, like=None)\n",
        "print(np.zeros((hidden_units)) )"
      ],
      "metadata": {
        "colab": {
          "base_uri": "https://localhost:8080/"
        },
        "id": "jthl0a0x5Wn0",
        "outputId": "1e1a03b4-6210-4178-a00b-e2107e36345c"
      },
      "execution_count": 13,
      "outputs": [
        {
          "output_type": "stream",
          "name": "stdout",
          "text": [
            "[0. 0. 0. 0. 0. 0. 0. 0.]\n",
            "(8,)\n",
            "[0. 0. 0. 0. 0. 0. 0. 0.]\n"
          ]
        }
      ]
    },
    {
      "cell_type": "code",
      "source": [
        "# 가중치 정의\n",
        "# 각 가중치의 차원은 입력과의 행렬 곱셉때문에 차원을 맞추는것\n",
        "\n",
        "# 입력에 대한 가중치 - W_x,  (8, 4)크기의 2D 텐서\n",
        "Wx = np.random.random((hidden_units, input_dim))\n",
        "\n",
        "# 은닉상태(Hidden State)에 대한 가중치 W_h - (8, 8) 크기 텐서\n",
        "Wh = np.random.random((hidden_units, hidden_units))\n",
        "\n",
        "# bias\n",
        "b = np.random.random((hidden_units,))"
      ],
      "metadata": {
        "id": "_AIhGLtU6GUl"
      },
      "execution_count": 14,
      "outputs": []
    },
    {
      "cell_type": "code",
      "source": [
        "for input_ in inputs:\n",
        "    # Wx * Xt + Wh * Ht-1 + b(bias)\n",
        "    # np.dot -> 행렬 곱셈\n",
        "    output_t = np.tanh(np.dot(Wx,input_) + np.dot(Wh,hidden_state_t) + b)\n",
        "\n",
        "    hidden_state_t = output_t\n",
        "    print(output_t)"
      ],
      "metadata": {
        "colab": {
          "base_uri": "https://localhost:8080/"
        },
        "id": "MIFANb6U6IxH",
        "outputId": "5dd69f34-a439-439f-f4f8-84ed51b93425"
      },
      "execution_count": 16,
      "outputs": [
        {
          "output_type": "stream",
          "name": "stdout",
          "text": [
            "[0.99994075 0.99999945 0.99997542 0.99999343 0.99999881 0.99903666\n",
            " 0.99950492 0.99997305]\n",
            "[0.9998267  0.99999443 0.99993074 0.99998389 0.99999575 0.9987759\n",
            " 0.99854384 0.99997604]\n",
            "[0.99991167 0.9999993  0.9999752  0.99999574 0.99999829 0.99912142\n",
            " 0.9996297  0.9999845 ]\n",
            "[0.99996262 0.99999978 0.99998754 0.99999694 0.99999922 0.99936599\n",
            " 0.99976664 0.99998986]\n",
            "[0.99981333 0.99999762 0.99994593 0.99998004 0.99999614 0.99665874\n",
            " 0.99910917 0.99992683]\n",
            "[0.9999378  0.99999887 0.99997062 0.99999321 0.99999852 0.99939798\n",
            " 0.99930058 0.99998737]\n",
            "[0.99985163 0.99999618 0.99994624 0.99997929 0.99999615 0.9980826\n",
            " 0.99881268 0.99997033]\n",
            "[0.99956901 0.99998315 0.99983799 0.99996715 0.99999083 0.99749452\n",
            " 0.99720727 0.99991809]\n",
            "[0.99980558 0.99999845 0.9999521  0.99998715 0.99999655 0.99685153\n",
            " 0.99937056 0.99992143]\n",
            "[0.99990916 0.99999875 0.99996779 0.99998449 0.99999781 0.9979336\n",
            " 0.99929796 0.99996444]\n"
          ]
        }
      ]
    },
    {
      "cell_type": "code",
      "source": [
        ""
      ],
      "metadata": {
        "id": "Hh7mwh0q9Fa2"
      },
      "execution_count": 15,
      "outputs": []
    }
  ]
}